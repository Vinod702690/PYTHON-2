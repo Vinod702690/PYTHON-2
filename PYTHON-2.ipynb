{
 "cells": [
  {
   "cell_type": "raw",
   "id": "a53fde60-eb3a-4a2a-a232-f205625d4ee4",
   "metadata": {},
   "source": [
    "Strings Methods in Python"
   ]
  },
  {
   "cell_type": "code",
   "execution_count": 3,
   "id": "d602c92a-feaa-44a6-a0ee-0fc8ac34891d",
   "metadata": {},
   "outputs": [
    {
     "data": {
      "text/plain": [
       "True"
      ]
     },
     "execution_count": 3,
     "metadata": {},
     "output_type": "execute_result"
    }
   ],
   "source": [
    "\"1234\".isalnum()"
   ]
  },
  {
   "cell_type": "code",
   "execution_count": 4,
   "id": "356bb2dd-fde2-454f-9f47-fd29dc4288eb",
   "metadata": {},
   "outputs": [
    {
     "data": {
      "text/plain": [
       "True"
      ]
     },
     "execution_count": 4,
     "metadata": {},
     "output_type": "execute_result"
    }
   ],
   "source": [
    "\"ABCD\".isalnum()"
   ]
  },
  {
   "cell_type": "code",
   "execution_count": 5,
   "id": "e22bfa1d-d6a8-4bbb-82c7-d0c277005ba0",
   "metadata": {},
   "outputs": [
    {
     "data": {
      "text/plain": [
       "True"
      ]
     },
     "execution_count": 5,
     "metadata": {},
     "output_type": "execute_result"
    }
   ],
   "source": [
    "\"1234abcd\".isalnum()"
   ]
  },
  {
   "cell_type": "code",
   "execution_count": 6,
   "id": "ed90197b-51e0-41dc-a42d-3666e33186b9",
   "metadata": {},
   "outputs": [
    {
     "data": {
      "text/plain": [
       "False"
      ]
     },
     "execution_count": 6,
     "metadata": {},
     "output_type": "execute_result"
    }
   ],
   "source": [
    "\"&&&\".isalpha()"
   ]
  },
  {
   "cell_type": "code",
   "execution_count": 7,
   "id": "22a09ac5-33bf-4677-8c8d-c901eadf3260",
   "metadata": {},
   "outputs": [
    {
     "data": {
      "text/plain": [
       "True"
      ]
     },
     "execution_count": 7,
     "metadata": {},
     "output_type": "execute_result"
    }
   ],
   "source": [
    "\"vinodkumar\".isalpha()"
   ]
  },
  {
   "cell_type": "code",
   "execution_count": 8,
   "id": "ad66a4b8-eee2-459c-8a93-3dd8ed0ec65a",
   "metadata": {},
   "outputs": [
    {
     "data": {
      "text/plain": [
       "False"
      ]
     },
     "execution_count": 8,
     "metadata": {},
     "output_type": "execute_result"
    }
   ],
   "source": [
    "\"abc123\".isdigit()"
   ]
  },
  {
   "cell_type": "code",
   "execution_count": 9,
   "id": "3b9f34af-5d32-457e-a0c6-cf90a1c90bee",
   "metadata": {},
   "outputs": [
    {
     "data": {
      "text/plain": [
       "True"
      ]
     },
     "execution_count": 9,
     "metadata": {},
     "output_type": "execute_result"
    }
   ],
   "source": [
    "\"123456\".isdigit()"
   ]
  },
  {
   "cell_type": "code",
   "execution_count": 10,
   "id": "746d2986-cf1a-4bf7-9d59-1134d5790690",
   "metadata": {},
   "outputs": [
    {
     "data": {
      "text/plain": [
       "False"
      ]
     },
     "execution_count": 10,
     "metadata": {},
     "output_type": "execute_result"
    }
   ],
   "source": [
    "\"ABCD\".islower()"
   ]
  },
  {
   "cell_type": "code",
   "execution_count": 11,
   "id": "0f1e7151-b02b-46d2-ad1a-01fbb5e63bda",
   "metadata": {},
   "outputs": [
    {
     "data": {
      "text/plain": [
       "True"
      ]
     },
     "execution_count": 11,
     "metadata": {},
     "output_type": "execute_result"
    }
   ],
   "source": [
    "\"abcd\".islower()"
   ]
  },
  {
   "cell_type": "code",
   "execution_count": 12,
   "id": "a9e912ed-5189-42a3-b4b4-a01914e5e62e",
   "metadata": {},
   "outputs": [
    {
     "data": {
      "text/plain": [
       "False"
      ]
     },
     "execution_count": 12,
     "metadata": {},
     "output_type": "execute_result"
    }
   ],
   "source": [
    "\"abcd\".isupper()"
   ]
  },
  {
   "cell_type": "code",
   "execution_count": 14,
   "id": "3701b4b2-d2ab-48cd-968b-d9416c306924",
   "metadata": {},
   "outputs": [
    {
     "data": {
      "text/plain": [
       "True"
      ]
     },
     "execution_count": 14,
     "metadata": {},
     "output_type": "execute_result"
    }
   ],
   "source": [
    "\"ABCD\".isupper()"
   ]
  },
  {
   "cell_type": "code",
   "execution_count": 15,
   "id": "7c891c04-fbf7-4258-b718-01dcf43ba5b9",
   "metadata": {},
   "outputs": [
    {
     "data": {
      "text/plain": [
       "False"
      ]
     },
     "execution_count": 15,
     "metadata": {},
     "output_type": "execute_result"
    }
   ],
   "source": [
    "\"@1234\".isspace()"
   ]
  },
  {
   "cell_type": "code",
   "execution_count": 22,
   "id": "f9adb055-6af3-4f34-863d-6de5162d6843",
   "metadata": {},
   "outputs": [
    {
     "data": {
      "text/plain": [
       "True"
      ]
     },
     "execution_count": 22,
     "metadata": {},
     "output_type": "execute_result"
    }
   ],
   "source": [
    "\"\\n\\t\".isspace()"
   ]
  },
  {
   "cell_type": "raw",
   "id": "ee3fb075-7ca3-42d7-aae1-2878189768e6",
   "metadata": {},
   "source": [
    "Searching and Replacing Strings #"
   ]
  },
  {
   "cell_type": "code",
   "execution_count": 25,
   "id": "4444701f-0c83-4b3d-9571-135c995c981a",
   "metadata": {},
   "outputs": [
    {
     "data": {
      "text/plain": [
       "True"
      ]
     },
     "execution_count": 25,
     "metadata": {},
     "output_type": "execute_result"
    }
   ],
   "source": [
    "s=\"abc\"\n",
    "s.endswith(\"bc\")"
   ]
  },
  {
   "cell_type": "code",
   "execution_count": 26,
   "id": "9d0d1f53-4917-4f75-a1b4-02058f7061cb",
   "metadata": {},
   "outputs": [
    {
     "data": {
      "text/plain": [
       "True"
      ]
     },
     "execution_count": 26,
     "metadata": {},
     "output_type": "execute_result"
    }
   ],
   "source": [
    "s=\"vinodkumar\"\n",
    "s.startswith(\"vi\")"
   ]
  },
  {
   "cell_type": "code",
   "execution_count": 29,
   "id": "e35d1e69-12eb-4ef5-890a-65b507093540",
   "metadata": {},
   "outputs": [
    {
     "data": {
      "text/plain": [
       "4"
      ]
     },
     "execution_count": 29,
     "metadata": {},
     "output_type": "execute_result"
    }
   ],
   "source": [
    "\"learning python\".find (\"n\")"
   ]
  },
  {
   "cell_type": "code",
   "execution_count": 30,
   "id": "daf927ae-b3f4-4b94-87a3-25799ea8c4d3",
   "metadata": {},
   "outputs": [
    {
     "data": {
      "text/plain": [
       "14"
      ]
     },
     "execution_count": 30,
     "metadata": {},
     "output_type": "execute_result"
    }
   ],
   "source": [
    "\"learning python\". rfind(\"n\")"
   ]
  },
  {
   "cell_type": "code",
   "execution_count": 32,
   "id": "2d622061-ecf1-4380-b672-87b32e3cd3d8",
   "metadata": {},
   "outputs": [
    {
     "data": {
      "text/plain": [
       "-1"
      ]
     },
     "execution_count": 32,
     "metadata": {},
     "output_type": "execute_result"
    }
   ],
   "source": [
    "\"learning python\". find(\"at\")"
   ]
  },
  {
   "cell_type": "code",
   "execution_count": 33,
   "id": "e3b7533d-b38e-46c9-999a-340a30fe58c5",
   "metadata": {},
   "outputs": [
    {
     "data": {
      "text/plain": [
       "3"
      ]
     },
     "execution_count": 33,
     "metadata": {},
     "output_type": "execute_result"
    }
   ],
   "source": [
    "\"procrastination is the thief of time\".count(\"ti\")"
   ]
  },
  {
   "cell_type": "code",
   "execution_count": 38,
   "id": "3777a3af-870c-4f1e-8e1c-2860755741e8",
   "metadata": {},
   "outputs": [
    {
     "data": {
      "text/plain": [
       "2219644186736"
      ]
     },
     "execution_count": 38,
     "metadata": {},
     "output_type": "execute_result"
    }
   ],
   "source": [
    "s1 = \"Learning C\"\n",
    "id(s1)"
   ]
  },
  {
   "cell_type": "code",
   "execution_count": 40,
   "id": "460b8f79-6df9-468b-bdae-da6d089d76c5",
   "metadata": {},
   "outputs": [
    {
     "data": {
      "text/plain": [
       "'vinodkumar'"
      ]
     },
     "execution_count": 40,
     "metadata": {},
     "output_type": "execute_result"
    }
   ],
   "source": [
    "s2 = s.replace(\"C\", \"Python\")\n",
    "s2"
   ]
  },
  {
   "cell_type": "code",
   "execution_count": 41,
   "id": "52aa1701-0199-4ae3-8f58-6aef3bb83e7e",
   "metadata": {},
   "outputs": [
    {
     "data": {
      "text/plain": [
       "2219644186736"
      ]
     },
     "execution_count": 41,
     "metadata": {},
     "output_type": "execute_result"
    }
   ],
   "source": [
    "id(s1)"
   ]
  },
  {
   "cell_type": "raw",
   "id": "ff09e579-0bf2-4081-88a8-e2e54eda7d0d",
   "metadata": {},
   "source": [
    "lower()and upper() method #"
   ]
  },
  {
   "cell_type": "code",
   "execution_count": 42,
   "id": "6b68d5c1-1267-4060-a188-3c208737b504",
   "metadata": {},
   "outputs": [
    {
     "data": {
      "text/plain": [
       "'abcdef'"
      ]
     },
     "execution_count": 42,
     "metadata": {},
     "output_type": "execute_result"
    }
   ],
   "source": [
    "\"abcDEF\".lower()"
   ]
  },
  {
   "cell_type": "code",
   "execution_count": 43,
   "id": "4f8ba95f-e032-431e-aed1-5b2379263194",
   "metadata": {},
   "outputs": [
    {
     "data": {
      "text/plain": [
       "'abc'"
      ]
     },
     "execution_count": 43,
     "metadata": {},
     "output_type": "execute_result"
    }
   ],
   "source": [
    "\"abc\".lower()"
   ]
  },
  {
   "cell_type": "code",
   "execution_count": 44,
   "id": "a5ac7561-54c5-427d-8ce8-98c7c58612b4",
   "metadata": {},
   "outputs": [
    {
     "data": {
      "text/plain": [
       "'ABCDEF'"
      ]
     },
     "execution_count": 44,
     "metadata": {},
     "output_type": "execute_result"
    }
   ],
   "source": [
    "\"abcDEF\".upper()"
   ]
  },
  {
   "cell_type": "code",
   "execution_count": 45,
   "id": "48d083cf-8385-4253-9bd9-d8654f1e2971",
   "metadata": {},
   "outputs": [
    {
     "data": {
      "text/plain": [
       "'ABC'"
      ]
     },
     "execution_count": 45,
     "metadata": {},
     "output_type": "execute_result"
    }
   ],
   "source": [
    "\"abc\".upper()"
   ]
  },
  {
   "cell_type": "raw",
   "id": "c685449e-b96b-4044-a1dc-510a0e5f2a03",
   "metadata": {},
   "source": [
    "capitalize() and title() method"
   ]
  },
  {
   "cell_type": "code",
   "execution_count": 46,
   "id": "6dd15cac-6f1a-4ad9-b2d6-6d48d00732cf",
   "metadata": {},
   "outputs": [
    {
     "data": {
      "text/plain": [
       "'A long string'"
      ]
     },
     "execution_count": 46,
     "metadata": {},
     "output_type": "execute_result"
    }
   ],
   "source": [
    "\"a long string\".capitalize()"
   ]
  },
  {
   "cell_type": "code",
   "execution_count": 47,
   "id": "91bdaba7-da5a-428b-b2d4-e889915a3e29",
   "metadata": {},
   "outputs": [
    {
     "data": {
      "text/plain": [
       "'A Long String'"
      ]
     },
     "execution_count": 47,
     "metadata": {},
     "output_type": "execute_result"
    }
   ],
   "source": [
    "\"a long string\".title()"
   ]
  },
  {
   "cell_type": "raw",
   "id": "4935053e-59ca-4c61-a4e1-cda3b07387e0",
   "metadata": {},
   "source": []
  }
 ],
 "metadata": {
  "kernelspec": {
   "display_name": "Python 3 (ipykernel)",
   "language": "python",
   "name": "python3"
  },
  "language_info": {
   "codemirror_mode": {
    "name": "ipython",
    "version": 3
   },
   "file_extension": ".py",
   "mimetype": "text/x-python",
   "name": "python",
   "nbconvert_exporter": "python",
   "pygments_lexer": "ipython3",
   "version": "3.12.3"
  }
 },
 "nbformat": 4,
 "nbformat_minor": 5
}
